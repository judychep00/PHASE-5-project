{
 "cells": [
  {
   "cell_type": "code",
   "execution_count": 1,
   "id": "102b3930",
   "metadata": {},
   "outputs": [],
   "source": [
    "#import relevant libraries \n",
    "import pandas as pd\n",
    "import numpy as np"
   ]
  },
  {
   "cell_type": "code",
   "execution_count": 2,
   "id": "ef123ef6",
   "metadata": {},
   "outputs": [
    {
     "data": {
      "text/html": [
       "<div>\n",
       "<style scoped>\n",
       "    .dataframe tbody tr th:only-of-type {\n",
       "        vertical-align: middle;\n",
       "    }\n",
       "\n",
       "    .dataframe tbody tr th {\n",
       "        vertical-align: top;\n",
       "    }\n",
       "\n",
       "    .dataframe thead th {\n",
       "        text-align: right;\n",
       "    }\n",
       "</style>\n",
       "<table border=\"1\" class=\"dataframe\">\n",
       "  <thead>\n",
       "    <tr style=\"text-align: right;\">\n",
       "      <th></th>\n",
       "      <th>Unique Key</th>\n",
       "      <th>Agency Acronym</th>\n",
       "      <th>Agency Name</th>\n",
       "      <th>Complaint Type</th>\n",
       "      <th>Descriptor</th>\n",
       "      <th>Borough</th>\n",
       "      <th>Resolution Description</th>\n",
       "      <th>Survey Year</th>\n",
       "      <th>Survey Month</th>\n",
       "      <th>Satisfaction Response</th>\n",
       "      <th>Dissatisfaction Reason</th>\n",
       "    </tr>\n",
       "  </thead>\n",
       "  <tbody>\n",
       "    <tr>\n",
       "      <th>0</th>\n",
       "      <td>16657800-00015172</td>\n",
       "      <td>DOB</td>\n",
       "      <td>Department of Buildings</td>\n",
       "      <td>Adult Establishment</td>\n",
       "      <td>Zoning Violation</td>\n",
       "      <td>MANHATTAN</td>\n",
       "      <td>The Department of Buildings investigated this ...</td>\n",
       "      <td>2022</td>\n",
       "      <td>10</td>\n",
       "      <td>Strongly Agree</td>\n",
       "      <td>NaN</td>\n",
       "    </tr>\n",
       "    <tr>\n",
       "      <th>1</th>\n",
       "      <td>58524985-00281320</td>\n",
       "      <td>DOB</td>\n",
       "      <td>Department of Buildings</td>\n",
       "      <td>Adult Establishment</td>\n",
       "      <td>Zoning Violation</td>\n",
       "      <td>BROOKLYN</td>\n",
       "      <td>The Department of Buildings investigated this ...</td>\n",
       "      <td>2024</td>\n",
       "      <td>11</td>\n",
       "      <td>Strongly Disagree</td>\n",
       "      <td>The Agency did not correct the issue.</td>\n",
       "    </tr>\n",
       "    <tr>\n",
       "      <th>2</th>\n",
       "      <td>75073480-00178242</td>\n",
       "      <td>DFTA</td>\n",
       "      <td>Department for the Aging</td>\n",
       "      <td>Legal Services Provider Complaint</td>\n",
       "      <td>NaN</td>\n",
       "      <td>MANHATTAN</td>\n",
       "      <td>The Department for the Aging contacted you and...</td>\n",
       "      <td>2024</td>\n",
       "      <td>3</td>\n",
       "      <td>Strongly Agree</td>\n",
       "      <td>NaN</td>\n",
       "    </tr>\n",
       "    <tr>\n",
       "      <th>3</th>\n",
       "      <td>46435198-00170848</td>\n",
       "      <td>DOB</td>\n",
       "      <td>Department of Buildings</td>\n",
       "      <td>Advertising Sign</td>\n",
       "      <td>Poster</td>\n",
       "      <td>MANHATTAN</td>\n",
       "      <td>The Department of Buildings reviewed this comp...</td>\n",
       "      <td>2024</td>\n",
       "      <td>2</td>\n",
       "      <td>Neutral</td>\n",
       "      <td>NaN</td>\n",
       "    </tr>\n",
       "    <tr>\n",
       "      <th>4</th>\n",
       "      <td>40782130-00128055</td>\n",
       "      <td>DOB</td>\n",
       "      <td>Department of Buildings</td>\n",
       "      <td>Advertising Sign</td>\n",
       "      <td>Billboard</td>\n",
       "      <td>MANHATTAN</td>\n",
       "      <td>The Department of Buildings investigated this ...</td>\n",
       "      <td>2023</td>\n",
       "      <td>10</td>\n",
       "      <td>Strongly Disagree</td>\n",
       "      <td>Status updates were unhelpful, inaccurate, inc...</td>\n",
       "    </tr>\n",
       "  </tbody>\n",
       "</table>\n",
       "</div>"
      ],
      "text/plain": [
       "          Unique Key Agency Acronym               Agency Name  \\\n",
       "0  16657800-00015172            DOB   Department of Buildings   \n",
       "1  58524985-00281320            DOB   Department of Buildings   \n",
       "2  75073480-00178242           DFTA  Department for the Aging   \n",
       "3  46435198-00170848            DOB   Department of Buildings   \n",
       "4  40782130-00128055            DOB   Department of Buildings   \n",
       "\n",
       "                      Complaint Type        Descriptor    Borough  \\\n",
       "0                Adult Establishment  Zoning Violation  MANHATTAN   \n",
       "1                Adult Establishment  Zoning Violation   BROOKLYN   \n",
       "2  Legal Services Provider Complaint               NaN  MANHATTAN   \n",
       "3                   Advertising Sign            Poster  MANHATTAN   \n",
       "4                   Advertising Sign         Billboard  MANHATTAN   \n",
       "\n",
       "                              Resolution Description  Survey Year  \\\n",
       "0  The Department of Buildings investigated this ...         2022   \n",
       "1  The Department of Buildings investigated this ...         2024   \n",
       "2  The Department for the Aging contacted you and...         2024   \n",
       "3  The Department of Buildings reviewed this comp...         2024   \n",
       "4  The Department of Buildings investigated this ...         2023   \n",
       "\n",
       "   Survey Month Satisfaction Response  \\\n",
       "0            10        Strongly Agree   \n",
       "1            11     Strongly Disagree   \n",
       "2             3        Strongly Agree   \n",
       "3             2               Neutral   \n",
       "4            10     Strongly Disagree   \n",
       "\n",
       "                              Dissatisfaction Reason  \n",
       "0                                                NaN  \n",
       "1              The Agency did not correct the issue.  \n",
       "2                                                NaN  \n",
       "3                                                NaN  \n",
       "4  Status updates were unhelpful, inaccurate, inc...  "
      ]
     },
     "execution_count": 2,
     "metadata": {},
     "output_type": "execute_result"
    }
   ],
   "source": [
    "data=pd.read_csv(r\"C:\\Users\\USER\\Downloads\\311_Resolution_Satisfaction_Survey (1).csv\")\n",
    "data.head()"
   ]
  },
  {
   "cell_type": "code",
   "execution_count": 3,
   "id": "77177db4",
   "metadata": {},
   "outputs": [
    {
     "data": {
      "text/plain": [
       "Index(['Unique Key', 'Agency Acronym', 'Agency Name', 'Complaint Type',\n",
       "       'Descriptor', 'Borough', 'Resolution Description', 'Survey Year',\n",
       "       'Survey Month', 'Satisfaction Response', 'Dissatisfaction Reason'],\n",
       "      dtype='object')"
      ]
     },
     "execution_count": 3,
     "metadata": {},
     "output_type": "execute_result"
    }
   ],
   "source": [
    "data.columns"
   ]
  },
  {
   "cell_type": "code",
   "execution_count": 4,
   "id": "5774623a",
   "metadata": {},
   "outputs": [],
   "source": [
    "from transformers import pipeline\n",
    "import torch\n",
    "import warnings\n",
    "\n",
    "warnings.filterwarnings(\"ignore\")"
   ]
  },
  {
   "cell_type": "code",
   "execution_count": 8,
   "id": "2012ca1e",
   "metadata": {},
   "outputs": [
    {
     "name": "stderr",
     "output_type": "stream",
     "text": [
      "Device set to use cpu\n",
      "Both `max_new_tokens` (=256) and `max_length`(=80) seem to have been set. `max_new_tokens` will take precedence. Please refer to the documentation for more information. (https://huggingface.co/docs/transformers/main/en/main_classes/text_generation)\n"
     ]
    },
    {
     "name": "stdout",
     "output_type": "stream",
     "text": [
      "               Agency Name       Complaint Type        Descriptor  \\\n",
      "0  Department of Buildings  Adult Establishment  Zoning Violation   \n",
      "\n",
      "                              Resolution Description  \\\n",
      "0  The Department of Buildings investigated this ...   \n",
      "\n",
      "             Dissatisfaction Reason Justified Reason  \n",
      "0  Agency did not correct the issue            False  \n"
     ]
    }
   ],
   "source": [
    "from transformers import pipeline\n",
    "import torch\n",
    "import pandas as pd\n",
    "\n",
    "# Load the T5 pipeline\n",
    "generator = pipeline(\"text2text-generation\", model=\"t5-base\", tokenizer=\"t5-base\")\n",
    "\n",
    "# Example DataFrame\n",
    "data = {\n",
    "    \"Agency Name\": [\"Department of Buildings\"],\n",
    "    \"Complaint Type\": [\"Adult Establishment\"],\n",
    "    \"Descriptor\": [\"Zoning Violation\"],\n",
    "    \" Resolution Description\": [\"The Department of Buildings investigated this complaint and determined that no further action was necessary.\"],\n",
    "    \"Dissatisfaction Reason\": [\"Agency did not correct the issue\"],\n",
    "}\n",
    "df = pd.DataFrame(data)\n",
    "\n",
    "# Create prompt\n",
    "def create_prompt(row):\n",
    "    return (\n",
    "        f\"Generate a detailed justified reason for this citizen complaint:\\n\"\n",
    "        f\"Agency: {row['Agency Name']}\\n\"\n",
    "        f\"Complaint Type: {row['Complaint Type']}\\n\"\n",
    "        f\"Descriptor: {row['Descriptor']}\\n\"\n",
    "        f\"Dissatisfaction Reason: {row['Dissatisfaction Reason']}\\n\"\n",
    "        f\"Resolution Description: {row[' Resolution Description']}\\n\"\n",
    "        f\"Justified Reason:\"\n",
    "    )\n",
    "\n",
    "# Apply prompt to DataFrame\n",
    "df[\"input_text\"] = df.apply(create_prompt, axis=1)\n",
    "\n",
    "# Generate output\n",
    "df[\"Justified Reason\"] = df[\"input_text\"].apply(lambda x: generator(x, max_length=80, do_sample=True)[0][\"generated_text\"])\n",
    "\n",
    "# View result\n",
    "print(df[[\"Agency Name\", \"Complaint Type\", \"Descriptor\", \" Resolution Description\", \"Dissatisfaction Reason\", \"Justified Reason\"]])\n"
   ]
  },
  {
   "cell_type": "code",
   "execution_count": 38,
   "id": "ce61bd75",
   "metadata": {},
   "outputs": [
    {
     "data": {
      "text/plain": [
       "0    Generate a detailed justified reason for this ...\n",
       "Name: input_text, dtype: object"
      ]
     },
     "execution_count": 38,
     "metadata": {},
     "output_type": "execute_result"
    }
   ],
   "source": [
    "df['input_text']"
   ]
  },
  {
   "cell_type": "code",
   "execution_count": 5,
   "id": "1674bfb2",
   "metadata": {},
   "outputs": [
    {
     "name": "stderr",
     "output_type": "stream",
     "text": [
      "Xet Storage is enabled for this repo, but the 'hf_xet' package is not installed. Falling back to regular HTTP download. For better performance, install the package with: `pip install huggingface_hub[hf_xet]` or `pip install hf_xet`\n"
     ]
    },
    {
     "data": {
      "application/vnd.jupyter.widget-view+json": {
       "model_id": "823d62d971a74c448a549bb844f9ac8d",
       "version_major": 2,
       "version_minor": 0
      },
      "text/plain": [
       "model.safetensors:   0%|          | 0.00/892M [00:00<?, ?B/s]"
      ]
     },
     "metadata": {},
     "output_type": "display_data"
    },
    {
     "data": {
      "application/vnd.jupyter.widget-view+json": {
       "model_id": "1638c6e90f4f4491916a9eaa39e65be6",
       "version_major": 2,
       "version_minor": 0
      },
      "text/plain": [
       "generation_config.json:   0%|          | 0.00/147 [00:00<?, ?B/s]"
      ]
     },
     "metadata": {},
     "output_type": "display_data"
    },
    {
     "data": {
      "application/vnd.jupyter.widget-view+json": {
       "model_id": "67dc71660a1746489113977154449616",
       "version_major": 2,
       "version_minor": 0
      },
      "text/plain": [
       "spiece.model:   0%|          | 0.00/792k [00:00<?, ?B/s]"
      ]
     },
     "metadata": {},
     "output_type": "display_data"
    },
    {
     "data": {
      "application/vnd.jupyter.widget-view+json": {
       "model_id": "61c71da55dd1480bbc5282f173c57ec6",
       "version_major": 2,
       "version_minor": 0
      },
      "text/plain": [
       "tokenizer.json:   0%|          | 0.00/1.39M [00:00<?, ?B/s]"
      ]
     },
     "metadata": {},
     "output_type": "display_data"
    },
    {
     "name": "stderr",
     "output_type": "stream",
     "text": [
      "Device set to use cpu\n",
      "Both `max_new_tokens` (=256) and `max_length`(=80) seem to have been set. `max_new_tokens` will take precedence. Please refer to the documentation for more information. (https://huggingface.co/docs/transformers/main/en/main_classes/text_generation)\n",
      "Both `max_new_tokens` (=256) and `max_length`(=80) seem to have been set. `max_new_tokens` will take precedence. Please refer to the documentation for more information. (https://huggingface.co/docs/transformers/main/en/main_classes/text_generation)\n",
      "Both `max_new_tokens` (=256) and `max_length`(=80) seem to have been set. `max_new_tokens` will take precedence. Please refer to the documentation for more information. (https://huggingface.co/docs/transformers/main/en/main_classes/text_generation)\n",
      "Both `max_new_tokens` (=256) and `max_length`(=80) seem to have been set. `max_new_tokens` will take precedence. Please refer to the documentation for more information. (https://huggingface.co/docs/transformers/main/en/main_classes/text_generation)\n",
      "Both `max_new_tokens` (=256) and `max_length`(=80) seem to have been set. `max_new_tokens` will take precedence. Please refer to the documentation for more information. (https://huggingface.co/docs/transformers/main/en/main_classes/text_generation)\n",
      "Both `max_new_tokens` (=256) and `max_length`(=80) seem to have been set. `max_new_tokens` will take precedence. Please refer to the documentation for more information. (https://huggingface.co/docs/transformers/main/en/main_classes/text_generation)\n",
      "Both `max_new_tokens` (=256) and `max_length`(=80) seem to have been set. `max_new_tokens` will take precedence. Please refer to the documentation for more information. (https://huggingface.co/docs/transformers/main/en/main_classes/text_generation)\n",
      "Both `max_new_tokens` (=256) and `max_length`(=80) seem to have been set. `max_new_tokens` will take precedence. Please refer to the documentation for more information. (https://huggingface.co/docs/transformers/main/en/main_classes/text_generation)\n",
      "Both `max_new_tokens` (=256) and `max_length`(=80) seem to have been set. `max_new_tokens` will take precedence. Please refer to the documentation for more information. (https://huggingface.co/docs/transformers/main/en/main_classes/text_generation)\n",
      "Both `max_new_tokens` (=256) and `max_length`(=80) seem to have been set. `max_new_tokens` will take precedence. Please refer to the documentation for more information. (https://huggingface.co/docs/transformers/main/en/main_classes/text_generation)\n"
     ]
    },
    {
     "data": {
      "text/html": [
       "<div>\n",
       "<style scoped>\n",
       "    .dataframe tbody tr th:only-of-type {\n",
       "        vertical-align: middle;\n",
       "    }\n",
       "\n",
       "    .dataframe tbody tr th {\n",
       "        vertical-align: top;\n",
       "    }\n",
       "\n",
       "    .dataframe thead th {\n",
       "        text-align: right;\n",
       "    }\n",
       "</style>\n",
       "<table border=\"1\" class=\"dataframe\">\n",
       "  <thead>\n",
       "    <tr style=\"text-align: right;\">\n",
       "      <th></th>\n",
       "      <th>Agency Name</th>\n",
       "      <th>Resolution Description</th>\n",
       "      <th>Dissatisfaction Reason</th>\n",
       "      <th>Justified Reason</th>\n",
       "    </tr>\n",
       "  </thead>\n",
       "  <tbody>\n",
       "    <tr>\n",
       "      <th>363634</th>\n",
       "      <td>Department of Buildings</td>\n",
       "      <td>The Department of Buildings investigated this ...</td>\n",
       "      <td>The Agency did not correct the issue.</td>\n",
       "      <td>False</td>\n",
       "    </tr>\n",
       "    <tr>\n",
       "      <th>82500</th>\n",
       "      <td>Department of Buildings</td>\n",
       "      <td>The Department of Buildings investigated this ...</td>\n",
       "      <td>Other</td>\n",
       "      <td>False</td>\n",
       "    </tr>\n",
       "    <tr>\n",
       "      <th>145484</th>\n",
       "      <td>Department of Buildings</td>\n",
       "      <td>The Department of Buildings investigated this ...</td>\n",
       "      <td>Other</td>\n",
       "      <td>False</td>\n",
       "    </tr>\n",
       "    <tr>\n",
       "      <th>12501</th>\n",
       "      <td>Department of Buildings</td>\n",
       "      <td>The Department of Buildings attempted to inves...</td>\n",
       "      <td>The Agency did not correct the issue.</td>\n",
       "      <td>False</td>\n",
       "    </tr>\n",
       "    <tr>\n",
       "      <th>315453</th>\n",
       "      <td>Department of Buildings</td>\n",
       "      <td>The Department of Buildings reviewed this comp...</td>\n",
       "      <td>The Agency did not correct the issue.</td>\n",
       "      <td>False</td>\n",
       "    </tr>\n",
       "    <tr>\n",
       "      <th>194077</th>\n",
       "      <td>Department of Buildings</td>\n",
       "      <td>The Department of Buildings attempted to inves...</td>\n",
       "      <td>The Agency did not correct the issue.</td>\n",
       "      <td>False</td>\n",
       "    </tr>\n",
       "    <tr>\n",
       "      <th>299581</th>\n",
       "      <td>Department of Buildings</td>\n",
       "      <td>The Department of Buildings investigated this ...</td>\n",
       "      <td>Other</td>\n",
       "      <td>False</td>\n",
       "    </tr>\n",
       "    <tr>\n",
       "      <th>157021</th>\n",
       "      <td>Department of Buildings</td>\n",
       "      <td>The Department of Buildings reviewed this comp...</td>\n",
       "      <td>The Agency did not correct the issue.</td>\n",
       "      <td>False</td>\n",
       "    </tr>\n",
       "    <tr>\n",
       "      <th>53721</th>\n",
       "      <td>Department of Buildings</td>\n",
       "      <td>The Department of Buildings investigated this ...</td>\n",
       "      <td>The Agency did not correct the issue.</td>\n",
       "      <td>False</td>\n",
       "    </tr>\n",
       "    <tr>\n",
       "      <th>85984</th>\n",
       "      <td>Department of Buildings</td>\n",
       "      <td>The Department of Buildings reviewed this comp...</td>\n",
       "      <td>The Agency did not correct the issue and this ...</td>\n",
       "      <td>False</td>\n",
       "    </tr>\n",
       "  </tbody>\n",
       "</table>\n",
       "</div>"
      ],
      "text/plain": [
       "                    Agency Name  \\\n",
       "363634  Department of Buildings   \n",
       "82500   Department of Buildings   \n",
       "145484  Department of Buildings   \n",
       "12501   Department of Buildings   \n",
       "315453  Department of Buildings   \n",
       "194077  Department of Buildings   \n",
       "299581  Department of Buildings   \n",
       "157021  Department of Buildings   \n",
       "53721   Department of Buildings   \n",
       "85984   Department of Buildings   \n",
       "\n",
       "                                   Resolution Description  \\\n",
       "363634  The Department of Buildings investigated this ...   \n",
       "82500   The Department of Buildings investigated this ...   \n",
       "145484  The Department of Buildings investigated this ...   \n",
       "12501   The Department of Buildings attempted to inves...   \n",
       "315453  The Department of Buildings reviewed this comp...   \n",
       "194077  The Department of Buildings attempted to inves...   \n",
       "299581  The Department of Buildings investigated this ...   \n",
       "157021  The Department of Buildings reviewed this comp...   \n",
       "53721   The Department of Buildings investigated this ...   \n",
       "85984   The Department of Buildings reviewed this comp...   \n",
       "\n",
       "                                   Dissatisfaction Reason Justified Reason  \n",
       "363634              The Agency did not correct the issue.            False  \n",
       "82500                                               Other            False  \n",
       "145484                                              Other            False  \n",
       "12501               The Agency did not correct the issue.            False  \n",
       "315453              The Agency did not correct the issue.            False  \n",
       "194077              The Agency did not correct the issue.            False  \n",
       "299581                                              Other            False  \n",
       "157021              The Agency did not correct the issue.            False  \n",
       "53721               The Agency did not correct the issue.            False  \n",
       "85984   The Agency did not correct the issue and this ...            False  "
      ]
     },
     "execution_count": 5,
     "metadata": {},
     "output_type": "execute_result"
    }
   ],
   "source": [
    "\n",
    "# Assuming your DataFrame is already loaded as df\n",
    "# Filter for Department of Buildings\n",
    "dept_data = data[data['Agency Name'] == 'Department of Buildings'].copy()\n",
    "\n",
    "# Drop NA rows for relevant columns to avoid errors\n",
    "dept_data.dropna(subset=['Agency Name', 'Resolution Description', 'Dissatisfaction Reason'], inplace=True)\n",
    "\n",
    "# Function to create prompt\n",
    "def create_prompt(row):\n",
    "    return (\n",
    "        f\"Agency: {row['Agency Name']}. \"\n",
    "        f\"Resolution: {row['Resolution Description']}. \"\n",
    "        f\"Dissatisfaction Reason: {row['Dissatisfaction Reason']}. \"\n",
    "        f\"Justify the issue.\"\n",
    "    )\n",
    "\n",
    "# Create input prompts\n",
    "dept_data['input_text'] = dept_data.apply(create_prompt, axis=1)\n",
    "\n",
    "# Take a small sample\n",
    "sample_df = dept_data.sample(10, random_state=42)\n",
    "input_texts = sample_df['input_text'].tolist()\n",
    "\n",
    "# Load T5 generation pipeline\n",
    "generator = pipeline(\"text2text-generation\", model=\"t5-base\", tokenizer=\"t5-base\")\n",
    "\n",
    "# Generate outputs\n",
    "generated = generator(input_texts, max_length=80, do_sample=True)\n",
    "\n",
    "# Extract the text\n",
    "generated_texts = [g['generated_text'] for g in generated]\n",
    "\n",
    "# Attach to DataFrame\n",
    "sample_df['Justified Reason'] = generated_texts\n",
    "\n",
    "# Show results\n",
    "sample_df[['Agency Name', 'Resolution Description', 'Dissatisfaction Reason', 'Justified Reason']]\n"
   ]
  },
  {
   "cell_type": "code",
   "execution_count": 13,
   "id": "7217f88a",
   "metadata": {},
   "outputs": [],
   "source": [
    "# Get a sample of 5 rows from dept_data with the specified columns\n",
    "sample_df = dept_data[['Agency Name', 'Complaint Type', 'Descriptor', 'Dissatisfaction Reason', 'Resolution Description']].dropna().sample(5, random_state=42)\n"
   ]
  },
  {
   "cell_type": "code",
   "execution_count": 14,
   "id": "243b60d1",
   "metadata": {},
   "outputs": [],
   "source": [
    "def format_prompt(row):\n",
    "    return (\n",
    "        f\"Given the following complaint:\\n\"\n",
    "        f\"Agency: {row['Agency Name']}\\n\"\n",
    "        f\"Complaint Type: {row['Complaint Type']}\\n\"\n",
    "        f\"Descriptor: {row['Descriptor']}\\n\"\n",
    "        f\"Dissatisfaction Reason: {row['Dissatisfaction Reason']}\\n\"\n",
    "        f\"Resolution Description: {row['Resolution Description']}\\n\"\n",
    "        f\"Explain why the complaint might be justified.\"\n",
    "    )\n",
    "\n",
    "sample_df['input_text'] = sample_df.apply(format_prompt, axis=1)\n"
   ]
  },
  {
   "cell_type": "code",
   "execution_count": 15,
   "id": "fb8421ac",
   "metadata": {},
   "outputs": [
    {
     "name": "stderr",
     "output_type": "stream",
     "text": [
      "Device set to use cpu\n",
      "Both `max_new_tokens` (=256) and `max_length`(=100) seem to have been set. `max_new_tokens` will take precedence. Please refer to the documentation for more information. (https://huggingface.co/docs/transformers/main/en/main_classes/text_generation)\n",
      "Both `max_new_tokens` (=256) and `max_length`(=100) seem to have been set. `max_new_tokens` will take precedence. Please refer to the documentation for more information. (https://huggingface.co/docs/transformers/main/en/main_classes/text_generation)\n",
      "Both `max_new_tokens` (=256) and `max_length`(=100) seem to have been set. `max_new_tokens` will take precedence. Please refer to the documentation for more information. (https://huggingface.co/docs/transformers/main/en/main_classes/text_generation)\n",
      "Both `max_new_tokens` (=256) and `max_length`(=100) seem to have been set. `max_new_tokens` will take precedence. Please refer to the documentation for more information. (https://huggingface.co/docs/transformers/main/en/main_classes/text_generation)\n",
      "Both `max_new_tokens` (=256) and `max_length`(=100) seem to have been set. `max_new_tokens` will take precedence. Please refer to the documentation for more information. (https://huggingface.co/docs/transformers/main/en/main_classes/text_generation)\n"
     ]
    }
   ],
   "source": [
    "from transformers import pipeline\n",
    "\n",
    "# Define generator\n",
    "generator = pipeline(\"text2text-generation\", model=\"t5-base\", tokenizer=\"t5-base\")\n",
    "\n",
    "# Generate output (for small batch first)\n",
    "inputs = sample_df['input_text'].tolist()\n",
    "generated = generator(inputs, max_length=100, do_sample=True)\n",
    "\n",
    "# Add generated output back to DataFrame\n",
    "sample_df['Justified Reason'] = [g['generated_text'] for g in generated]\n"
   ]
  },
  {
   "cell_type": "code",
   "execution_count": 16,
   "id": "3f538342",
   "metadata": {},
   "outputs": [
    {
     "data": {
      "text/html": [
       "<div>\n",
       "<style scoped>\n",
       "    .dataframe tbody tr th:only-of-type {\n",
       "        vertical-align: middle;\n",
       "    }\n",
       "\n",
       "    .dataframe tbody tr th {\n",
       "        vertical-align: top;\n",
       "    }\n",
       "\n",
       "    .dataframe thead th {\n",
       "        text-align: right;\n",
       "    }\n",
       "</style>\n",
       "<table border=\"1\" class=\"dataframe\">\n",
       "  <thead>\n",
       "    <tr style=\"text-align: right;\">\n",
       "      <th></th>\n",
       "      <th>Agency Name</th>\n",
       "      <th>Complaint Type</th>\n",
       "      <th>Descriptor</th>\n",
       "      <th>Dissatisfaction Reason</th>\n",
       "      <th>Resolution Description</th>\n",
       "      <th>Justified Reason</th>\n",
       "    </tr>\n",
       "  </thead>\n",
       "  <tbody>\n",
       "    <tr>\n",
       "      <th>274770</th>\n",
       "      <td>Department of Buildings</td>\n",
       "      <td>Construction In Progress</td>\n",
       "      <td>After Hours</td>\n",
       "      <td>Other</td>\n",
       "      <td>The Department of Buildings investigated this ...</td>\n",
       "      <td>True</td>\n",
       "    </tr>\n",
       "    <tr>\n",
       "      <th>288107</th>\n",
       "      <td>Department of Buildings</td>\n",
       "      <td>Scaffold/Sidewalk Shed</td>\n",
       "      <td>No Permit/Certificate</td>\n",
       "      <td>Other</td>\n",
       "      <td>The Department of Buildings investigated this ...</td>\n",
       "      <td>True</td>\n",
       "    </tr>\n",
       "    <tr>\n",
       "      <th>210403</th>\n",
       "      <td>Department of Buildings</td>\n",
       "      <td>Construction In Progress</td>\n",
       "      <td>Contrary to Plan</td>\n",
       "      <td>Other</td>\n",
       "      <td>The Department of Buildings investigated this ...</td>\n",
       "      <td>True</td>\n",
       "    </tr>\n",
       "    <tr>\n",
       "      <th>337349</th>\n",
       "      <td>Department of Buildings</td>\n",
       "      <td>Vent/Exhaust System</td>\n",
       "      <td>Illegal</td>\n",
       "      <td>Other</td>\n",
       "      <td>The Department of Buildings reviewed this comp...</td>\n",
       "      <td>True</td>\n",
       "    </tr>\n",
       "    <tr>\n",
       "      <th>157961</th>\n",
       "      <td>Department of Buildings</td>\n",
       "      <td>Boiler</td>\n",
       "      <td>Defective</td>\n",
       "      <td>Other</td>\n",
       "      <td>The Department of Buildings investigated this ...</td>\n",
       "      <td>True</td>\n",
       "    </tr>\n",
       "  </tbody>\n",
       "</table>\n",
       "</div>"
      ],
      "text/plain": [
       "                    Agency Name            Complaint Type  \\\n",
       "274770  Department of Buildings  Construction In Progress   \n",
       "288107  Department of Buildings    Scaffold/Sidewalk Shed   \n",
       "210403  Department of Buildings  Construction In Progress   \n",
       "337349  Department of Buildings       Vent/Exhaust System   \n",
       "157961  Department of Buildings                    Boiler   \n",
       "\n",
       "                   Descriptor Dissatisfaction Reason  \\\n",
       "274770            After Hours                  Other   \n",
       "288107  No Permit/Certificate                  Other   \n",
       "210403       Contrary to Plan                  Other   \n",
       "337349                Illegal                  Other   \n",
       "157961              Defective                  Other   \n",
       "\n",
       "                                   Resolution Description Justified Reason  \n",
       "274770  The Department of Buildings investigated this ...             True  \n",
       "288107  The Department of Buildings investigated this ...             True  \n",
       "210403  The Department of Buildings investigated this ...             True  \n",
       "337349  The Department of Buildings reviewed this comp...             True  \n",
       "157961  The Department of Buildings investigated this ...             True  "
      ]
     },
     "execution_count": 16,
     "metadata": {},
     "output_type": "execute_result"
    }
   ],
   "source": [
    "sample_df[['Agency Name', 'Complaint Type', 'Descriptor', 'Dissatisfaction Reason', 'Resolution Description', 'Justified Reason']]\n"
   ]
  },
  {
   "cell_type": "code",
   "execution_count": 17,
   "id": "bbe226ec",
   "metadata": {},
   "outputs": [],
   "source": [
    "sample_df['input_text'] = (\n",
    "    \"Given the following case:\\n\"\n",
    "    \"Agency: \" + sample_df['Agency Name'] + \"\\n\"\n",
    "    \"Complaint Type: \" + sample_df['Complaint Type'] + \"\\n\"\n",
    "    \"Descriptor: \" + sample_df['Descriptor'] + \"\\n\"\n",
    "    \"Dissatisfaction Reason: \" + sample_df['Dissatisfaction Reason'] + \"\\n\"\n",
    "    \"Resolution Description: \" + sample_df['Resolution Description'] + \"\\n\\n\"\n",
    "    \"Write a detailed justification for the customer's dissatisfaction:\"\n",
    ")\n"
   ]
  },
  {
   "cell_type": "code",
   "execution_count": 18,
   "id": "fbdae94a",
   "metadata": {},
   "outputs": [
    {
     "name": "stderr",
     "output_type": "stream",
     "text": [
      "Both `max_new_tokens` (=256) and `max_length`(=150) seem to have been set. `max_new_tokens` will take precedence. Please refer to the documentation for more information. (https://huggingface.co/docs/transformers/main/en/main_classes/text_generation)\n",
      "Both `max_new_tokens` (=256) and `max_length`(=150) seem to have been set. `max_new_tokens` will take precedence. Please refer to the documentation for more information. (https://huggingface.co/docs/transformers/main/en/main_classes/text_generation)\n",
      "Both `max_new_tokens` (=256) and `max_length`(=150) seem to have been set. `max_new_tokens` will take precedence. Please refer to the documentation for more information. (https://huggingface.co/docs/transformers/main/en/main_classes/text_generation)\n",
      "Both `max_new_tokens` (=256) and `max_length`(=150) seem to have been set. `max_new_tokens` will take precedence. Please refer to the documentation for more information. (https://huggingface.co/docs/transformers/main/en/main_classes/text_generation)\n",
      "Both `max_new_tokens` (=256) and `max_length`(=150) seem to have been set. `max_new_tokens` will take precedence. Please refer to the documentation for more information. (https://huggingface.co/docs/transformers/main/en/main_classes/text_generation)\n"
     ]
    }
   ],
   "source": [
    "generated = generator(sample_df['input_text'].tolist(), max_length=150, do_sample=True)\n",
    "sample_df['Justified Reason'] = [g['generated_text'] for g in generated]\n"
   ]
  },
  {
   "cell_type": "code",
   "execution_count": 20,
   "id": "648292ea",
   "metadata": {},
   "outputs": [
    {
     "data": {
      "text/plain": [
       "274770    True\n",
       "288107    True\n",
       "210403    True\n",
       "337349    True\n",
       "157961    True\n",
       "Name: Justified Reason, dtype: object"
      ]
     },
     "execution_count": 20,
     "metadata": {},
     "output_type": "execute_result"
    }
   ],
   "source": [
    "sample_df['Justified Reason']"
   ]
  },
  {
   "cell_type": "code",
   "execution_count": 21,
   "id": "b39e4710",
   "metadata": {},
   "outputs": [],
   "source": [
    "sample_df['input_text'] = (\n",
    "    \"Agency: \" + sample_df['Agency Name'] + \". \"\n",
    "    \"Complaint Type: \" + sample_df['Complaint Type'] + \". \"\n",
    "    \"Issue Description: \" + sample_df['Descriptor'] + \". \"\n",
    "    \"Dissatisfaction Reason: \" + sample_df['Dissatisfaction Reason'] + \". \"\n",
    "    \"Resolution Provided: \" + sample_df['Resolution Description'] + \". \"\n",
    "    \"Explain why the customer might still be dissatisfied:\"\n",
    ")\n"
   ]
  },
  {
   "cell_type": "code",
   "execution_count": 22,
   "id": "859ecccf",
   "metadata": {},
   "outputs": [],
   "source": [
    "generated = generator(\n",
    "    sample_df['input_text'].tolist(), \n",
    "    max_new_tokens=80, \n",
    "    do_sample=True, \n",
    "    top_k=50, \n",
    "    top_p=0.95,\n",
    "    temperature=0.7\n",
    ")\n",
    "sample_df['Justified Reason'] = [g['generated_text'] for g in generated]\n"
   ]
  },
  {
   "cell_type": "code",
   "execution_count": 24,
   "id": "32f230fd",
   "metadata": {},
   "outputs": [
    {
     "data": {
      "text/plain": [
       "274770    False\n",
       "288107    False\n",
       "210403    False\n",
       "337349    False\n",
       "157961    False\n",
       "Name: Justified Reason, dtype: object"
      ]
     },
     "execution_count": 24,
     "metadata": {},
     "output_type": "execute_result"
    }
   ],
   "source": [
    "sample_df['Justified Reason']\n"
   ]
  },
  {
   "cell_type": "code",
   "execution_count": 25,
   "id": "54cf2ce3",
   "metadata": {},
   "outputs": [],
   "source": [
    "def format_input(row):\n",
    "    return (\n",
    "        f\"Given the agency is '{row['Agency Name']}', the complaint type is '{row['Complaint Type']}', \"\n",
    "        f\"the descriptor is '{row['Descriptor']}', and the dissatisfaction reason is '{row['Dissatisfaction Reason']}', \"\n",
    "        f\"explain if the complaint resolution is justified or not.\"\n",
    "    )\n",
    "\n",
    "sample_df['input_text'] = sample_df.apply(format_input, axis=1)\n"
   ]
  },
  {
   "cell_type": "code",
   "execution_count": 26,
   "id": "eafb5078",
   "metadata": {},
   "outputs": [
    {
     "name": "stderr",
     "output_type": "stream",
     "text": [
      "Device set to use cpu\n",
      "Both `max_new_tokens` (=256) and `max_length`(=100) seem to have been set. `max_new_tokens` will take precedence. Please refer to the documentation for more information. (https://huggingface.co/docs/transformers/main/en/main_classes/text_generation)\n",
      "Both `max_new_tokens` (=256) and `max_length`(=100) seem to have been set. `max_new_tokens` will take precedence. Please refer to the documentation for more information. (https://huggingface.co/docs/transformers/main/en/main_classes/text_generation)\n",
      "Both `max_new_tokens` (=256) and `max_length`(=100) seem to have been set. `max_new_tokens` will take precedence. Please refer to the documentation for more information. (https://huggingface.co/docs/transformers/main/en/main_classes/text_generation)\n",
      "Both `max_new_tokens` (=256) and `max_length`(=100) seem to have been set. `max_new_tokens` will take precedence. Please refer to the documentation for more information. (https://huggingface.co/docs/transformers/main/en/main_classes/text_generation)\n",
      "Both `max_new_tokens` (=256) and `max_length`(=100) seem to have been set. `max_new_tokens` will take precedence. Please refer to the documentation for more information. (https://huggingface.co/docs/transformers/main/en/main_classes/text_generation)\n"
     ]
    }
   ],
   "source": [
    "from transformers import pipeline\n",
    "\n",
    "generator = pipeline(\"text2text-generation\", model=\"t5-base\", tokenizer=\"t5-base\")\n",
    "inputs = sample_df['input_text'].tolist()\n",
    "\n",
    "generated = generator(inputs, max_length=100, do_sample=True)\n",
    "\n",
    "sample_df['Justified Reason'] = [g['generated_text'] for g in generated]\n"
   ]
  },
  {
   "cell_type": "code",
   "execution_count": 27,
   "id": "0c99a5bb",
   "metadata": {},
   "outputs": [
    {
     "data": {
      "text/html": [
       "<div>\n",
       "<style scoped>\n",
       "    .dataframe tbody tr th:only-of-type {\n",
       "        vertical-align: middle;\n",
       "    }\n",
       "\n",
       "    .dataframe tbody tr th {\n",
       "        vertical-align: top;\n",
       "    }\n",
       "\n",
       "    .dataframe thead th {\n",
       "        text-align: right;\n",
       "    }\n",
       "</style>\n",
       "<table border=\"1\" class=\"dataframe\">\n",
       "  <thead>\n",
       "    <tr style=\"text-align: right;\">\n",
       "      <th></th>\n",
       "      <th>input_text</th>\n",
       "      <th>Justified Reason</th>\n",
       "    </tr>\n",
       "  </thead>\n",
       "  <tbody>\n",
       "    <tr>\n",
       "      <th>274770</th>\n",
       "      <td>Given the agency is 'Department of Buildings',...</td>\n",
       "      <td>the complaint type is 'Construction In Progres...</td>\n",
       "    </tr>\n",
       "    <tr>\n",
       "      <th>288107</th>\n",
       "      <td>Given the agency is 'Department of Buildings',...</td>\n",
       "      <td>is 'No Permit/Certificate', the complaint type...</td>\n",
       "    </tr>\n",
       "    <tr>\n",
       "      <th>210403</th>\n",
       "      <td>Given the agency is 'Department of Buildings',...</td>\n",
       "      <td>the complaint type is 'Construction In Progres...</td>\n",
       "    </tr>\n",
       "    <tr>\n",
       "      <th>337349</th>\n",
       "      <td>Given the agency is 'Department of Buildings',...</td>\n",
       "      <td>the agency is 'Department of Buildings', the c...</td>\n",
       "    </tr>\n",
       "    <tr>\n",
       "      <th>157961</th>\n",
       "      <td>Given the agency is 'Department of Buildings',...</td>\n",
       "      <td>the agency is 'Department of Buildings', the c...</td>\n",
       "    </tr>\n",
       "  </tbody>\n",
       "</table>\n",
       "</div>"
      ],
      "text/plain": [
       "                                               input_text  \\\n",
       "274770  Given the agency is 'Department of Buildings',...   \n",
       "288107  Given the agency is 'Department of Buildings',...   \n",
       "210403  Given the agency is 'Department of Buildings',...   \n",
       "337349  Given the agency is 'Department of Buildings',...   \n",
       "157961  Given the agency is 'Department of Buildings',...   \n",
       "\n",
       "                                         Justified Reason  \n",
       "274770  the complaint type is 'Construction In Progres...  \n",
       "288107  is 'No Permit/Certificate', the complaint type...  \n",
       "210403  the complaint type is 'Construction In Progres...  \n",
       "337349  the agency is 'Department of Buildings', the c...  \n",
       "157961  the agency is 'Department of Buildings', the c...  "
      ]
     },
     "execution_count": 27,
     "metadata": {},
     "output_type": "execute_result"
    }
   ],
   "source": [
    "sample_df[['input_text', 'Justified Reason']].head()\n"
   ]
  },
  {
   "cell_type": "code",
   "execution_count": 28,
   "id": "2d28bfb8",
   "metadata": {},
   "outputs": [
    {
     "name": "stdout",
     "output_type": "stream",
     "text": [
      "🔹 Input Text:\n",
      "Given the agency is 'Department of Buildings', the complaint type is 'Construction In Progress', the descriptor is 'After Hours', and the dissatisfaction reason is 'Other', explain if the complaint resolution is justified or not.\n",
      "\n",
      "✅ Justified Reason Generated:\n",
      "the complaint type is 'Construction In Progress', the descriptor is 'After Hours', and the dissatisfaction reason is 'Other', explain if the complaint resolution is justified or not.\n",
      "\n",
      "====================================================================================================\n",
      "🔹 Input Text:\n",
      "Given the agency is 'Department of Buildings', the complaint type is 'Scaffold/Sidewalk Shed', the descriptor is 'No Permit/Certificate', and the dissatisfaction reason is 'Other', explain if the complaint resolution is justified or not.\n",
      "\n",
      "✅ Justified Reason Generated:\n",
      "is 'No Permit/Certificate', the complaint type is 'Scaffold/Sidewalk Shed', the descriptor is 'No Permit/Certificate', and the dissatisfaction reason is 'Other', explain if the complaint resolution is justified or not.\n",
      "\n",
      "====================================================================================================\n",
      "🔹 Input Text:\n",
      "Given the agency is 'Department of Buildings', the complaint type is 'Construction In Progress', the descriptor is 'Contrary to Plan', and the dissatisfaction reason is 'Other', explain if the complaint resolution is justified or not.\n",
      "\n",
      "✅ Justified Reason Generated:\n",
      "the complaint type is 'Construction In Progress', the descriptor is 'Contrary to Plan', and the dissatisfaction reason is 'Other', explain if the complaint resolution is justified or not.\n",
      "\n",
      "====================================================================================================\n",
      "🔹 Input Text:\n",
      "Given the agency is 'Department of Buildings', the complaint type is 'Vent/Exhaust System', the descriptor is 'Illegal', and the dissatisfaction reason is 'Other', explain if the complaint resolution is justified or not.\n",
      "\n",
      "✅ Justified Reason Generated:\n",
      "the agency is 'Department of Buildings', the complaint type is 'Vent/Exhaust System', the descriptor is 'Illegal', and the dissatisfaction reason is 'Other', explain if the complaint resolution is justified or not.\n",
      "\n",
      "====================================================================================================\n",
      "🔹 Input Text:\n",
      "Given the agency is 'Department of Buildings', the complaint type is 'Boiler', the descriptor is 'Defective', and the dissatisfaction reason is 'Other', explain if the complaint resolution is justified or not.\n",
      "\n",
      "✅ Justified Reason Generated:\n",
      "the agency is 'Department of Buildings', the complaint type is 'Boiler', the descriptor is 'Defective', and the dissatisfaction reason is 'Other', explain if the complaint resolution is justified or not.\n",
      "\n",
      "====================================================================================================\n"
     ]
    }
   ],
   "source": [
    "# Show the full prompt and its generated justified reason\n",
    "for idx, row in sample_df[['input_text', 'Justified Reason']].head(10).iterrows():\n",
    "    print(f\"🔹 Input Text:\\n{row['input_text']}\\n\")\n",
    "    print(f\"✅ Justified Reason Generated:\\n{row['Justified Reason']}\\n\")\n",
    "    print(\"=\"*100)\n"
   ]
  },
  {
   "cell_type": "code",
   "execution_count": null,
   "id": "85392410",
   "metadata": {},
   "outputs": [
    {
     "name": "stderr",
     "output_type": "stream",
     "text": [
      "Xet Storage is enabled for this repo, but the 'hf_xet' package is not installed. Falling back to regular HTTP download. For better performance, install the package with: `pip install huggingface_hub[hf_xet]` or `pip install hf_xet`\n"
     ]
    },
    {
     "data": {
      "application/vnd.jupyter.widget-view+json": {
       "model_id": "3d9e83e06ace4bf4bbba37436c59b5c6",
       "version_major": 2,
       "version_minor": 0
      },
      "text/plain": [
       "model.safetensors:  50%|####9     | 1.55G/3.13G [00:00<?, ?B/s]"
      ]
     },
     "metadata": {},
     "output_type": "display_data"
    },
    {
     "name": "stderr",
     "output_type": "stream",
     "text": [
      "Xet Storage is enabled for this repo, but the 'hf_xet' package is not installed. Falling back to regular HTTP download. For better performance, install the package with: `pip install huggingface_hub[hf_xet]` or `pip install hf_xet`\n"
     ]
    },
    {
     "data": {
      "application/vnd.jupyter.widget-view+json": {
       "model_id": "89e1e23b4c0a488bb766a336616b3e3b",
       "version_major": 2,
       "version_minor": 0
      },
      "text/plain": [
       "model.safetensors:  69%|######8   | 2.16G/3.13G [00:00<?, ?B/s]"
      ]
     },
     "metadata": {},
     "output_type": "display_data"
    },
    {
     "name": "stderr",
     "output_type": "stream",
     "text": [
      "Xet Storage is enabled for this repo, but the 'hf_xet' package is not installed. Falling back to regular HTTP download. For better performance, install the package with: `pip install huggingface_hub[hf_xet]` or `pip install hf_xet`\n"
     ]
    },
    {
     "data": {
      "application/vnd.jupyter.widget-view+json": {
       "model_id": "6b914aac9c1c437f9d18c1ffdb4feda8",
       "version_major": 2,
       "version_minor": 0
      },
      "text/plain": [
       "model.safetensors:  80%|#######9  | 2.50G/3.13G [00:00<?, ?B/s]"
      ]
     },
     "metadata": {},
     "output_type": "display_data"
    },
    {
     "name": "stderr",
     "output_type": "stream",
     "text": [
      "Xet Storage is enabled for this repo, but the 'hf_xet' package is not installed. Falling back to regular HTTP download. For better performance, install the package with: `pip install huggingface_hub[hf_xet]` or `pip install hf_xet`\n"
     ]
    },
    {
     "data": {
      "application/vnd.jupyter.widget-view+json": {
       "model_id": "b543993daf7b4ebe802518f7decee862",
       "version_major": 2,
       "version_minor": 0
      },
      "text/plain": [
       "model.safetensors:  90%|######### | 2.83G/3.13G [00:00<?, ?B/s]"
      ]
     },
     "metadata": {},
     "output_type": "display_data"
    },
    {
     "data": {
      "application/vnd.jupyter.widget-view+json": {
       "model_id": "26a5a05d4b0648c29591c4265ceb3476",
       "version_major": 2,
       "version_minor": 0
      },
      "text/plain": [
       "generation_config.json:   0%|          | 0.00/147 [00:00<?, ?B/s]"
      ]
     },
     "metadata": {},
     "output_type": "display_data"
    },
    {
     "name": "stderr",
     "output_type": "stream",
     "text": [
      "Falling back to torch.float32 because loading with the original dtype failed on the target device.\n"
     ]
    },
    {
     "data": {
      "application/vnd.jupyter.widget-view+json": {
       "model_id": "e9f122cf615d43c19e52334e4e0d610d",
       "version_major": 2,
       "version_minor": 0
      },
      "text/plain": [
       "tokenizer_config.json: 0.00B [00:00, ?B/s]"
      ]
     },
     "metadata": {},
     "output_type": "display_data"
    },
    {
     "name": "stderr",
     "output_type": "stream",
     "text": [
      "Xet Storage is enabled for this repo, but the 'hf_xet' package is not installed. Falling back to regular HTTP download. For better performance, install the package with: `pip install huggingface_hub[hf_xet]` or `pip install hf_xet`\n"
     ]
    },
    {
     "data": {
      "application/vnd.jupyter.widget-view+json": {
       "model_id": "ee64bc25415c4b58b04371bf04a7d76b",
       "version_major": 2,
       "version_minor": 0
      },
      "text/plain": [
       "spiece.model:   0%|          | 0.00/792k [00:00<?, ?B/s]"
      ]
     },
     "metadata": {},
     "output_type": "display_data"
    },
    {
     "data": {
      "application/vnd.jupyter.widget-view+json": {
       "model_id": "eef4934edead4d608888bb4081b0d5d1",
       "version_major": 2,
       "version_minor": 0
      },
      "text/plain": [
       "tokenizer.json: 0.00B [00:00, ?B/s]"
      ]
     },
     "metadata": {},
     "output_type": "display_data"
    },
    {
     "data": {
      "application/vnd.jupyter.widget-view+json": {
       "model_id": "4f7b7177604445aba7aa7fe82c60bccb",
       "version_major": 2,
       "version_minor": 0
      },
      "text/plain": [
       "special_tokens_map.json: 0.00B [00:00, ?B/s]"
      ]
     },
     "metadata": {},
     "output_type": "display_data"
    },
    {
     "name": "stderr",
     "output_type": "stream",
     "text": [
      "Device set to use cpu\n",
      "Both `max_new_tokens` (=256) and `max_length`(=100) seem to have been set. `max_new_tokens` will take precedence. Please refer to the documentation for more information. (https://huggingface.co/docs/transformers/main/en/main_classes/text_generation)\n"
     ]
    },
    {
     "name": "stdout",
     "output_type": "stream",
     "text": [
      "No\n"
     ]
    }
   ],
   "source": [
    "from transformers import pipeline\n",
    "\n",
    "# Use a more powerful, instruction-tuned model\n",
    "generator = pipeline(\n",
    "    \"text2text-generation\",\n",
    "    model=\"google/flan-t5-large\",\n",
    "    tokenizer=\"google/flan-t5-large\"\n",
    ")\n",
    "\n",
    "# Example input\n",
    "input_text = (\n",
    "    \"You are an AI system that explains if a complaint resolution is justified. \"\n",
    "    \"Agency: Department of Buildings. \"\n",
    "    \"Complaint Type: Construction In Progress. \"\n",
    "    \"Descriptor: After Hours. \"\n",
    "    \"Dissatisfaction Reason: Other. \"\n",
    "    \"Based on these, is the resolution justified or not? Give a short explanation.\"\n",
    ")\n",
    "\n",
    "# Generate the output\n",
    "output = generator(input_text, max_length=100, do_sample=True)\n",
    "print(output[0]['generated_text'])\n"
   ]
  },
  {
   "cell_type": "code",
   "execution_count": 32,
   "id": "f4f5a5dd",
   "metadata": {},
   "outputs": [
    {
     "name": "stderr",
     "output_type": "stream",
     "text": [
      "Device set to use cpu\n"
     ]
    },
    {
     "name": "stdout",
     "output_type": "stream",
     "text": [
      "📝 Justified Reason:\n",
      " Not Justified\n"
     ]
    }
   ],
   "source": [
    "from transformers import pipeline\n",
    "\n",
    "# Initialize instruction-tuned model\n",
    "generator = pipeline(\n",
    "    \"text2text-generation\",\n",
    "    model=\"google/flan-t5-large\",\n",
    "    tokenizer=\"google/flan-t5-large\"\n",
    ")\n",
    "\n",
    "input_text = (\n",
    "    \"You are an AI system that determines if a complaint resolution is justified or not. \"\n",
    "    \"You must base your answer on the agency, complaint type, descriptor, and dissatisfaction reason. \"\n",
    "    \"Provide your final decision (Justified or Not Justified) followed by a brief explanation. \"\n",
    "    \"\\n\\n\"\n",
    "    \"Agency: Department of Buildings\\n\"\n",
    "    \"Complaint Type: Construction In Progress\\n\"\n",
    "    \"Descriptor: After Hours\\n\"\n",
    "    \"Dissatisfaction Reason: Other\\n\"\n",
    "    \"Resolution Description: The Department of Buildings has resolved the complaint.\\n\"\n",
    "    \"Is the resolution justified?\"\n",
    ")\n",
    "\n",
    "# Generate the output\n",
    "output = generator(\n",
    "    input_text,\n",
    "    max_new_tokens=100,\n",
    "    do_sample=True,\n",
    "    temperature=0.7,\n",
    "    top_p=0.9\n",
    ")\n",
    "\n",
    "# Print result\n",
    "print(\"📝 Justified Reason:\\n\", output[0]['generated_text'])\n"
   ]
  },
  {
   "cell_type": "code",
   "execution_count": 33,
   "id": "c5950725",
   "metadata": {},
   "outputs": [],
   "source": [
    "def build_prompt(row):\n",
    "    return (\n",
    "        \"You are an AI system that determines if a complaint resolution is justified or not. \"\n",
    "        \"You must base your answer on the agency, complaint type, descriptor, dissatisfaction reason, \"\n",
    "        \"and resolution description. Provide your final decision (Justified or Not Justified) followed by a brief explanation.\\n\\n\"\n",
    "        f\"Agency: {row['Agency Name']}\\n\"\n",
    "        f\"Complaint Type: {row['Complaint Type']}\\n\"\n",
    "        f\"Descriptor: {row['Descriptor']}\\n\"\n",
    "        f\"Dissatisfaction Reason: {row['Dissatisfaction Reason']}\\n\"\n",
    "        f\"Resolution Description: {row['Resolution Description']}\\n\"\n",
    "        \"Is the resolution justified?\"\n",
    "    )\n"
   ]
  },
  {
   "cell_type": "code",
   "execution_count": 35,
   "id": "f2f92257",
   "metadata": {},
   "outputs": [],
   "source": [
    "sample_df = dept_data.sample(5, random_state=42).copy()\n",
    "sample_df['input_text'] = sample_df.apply(build_prompt, axis=1)\n"
   ]
  },
  {
   "cell_type": "code",
   "execution_count": 36,
   "id": "77387e87",
   "metadata": {},
   "outputs": [
    {
     "name": "stderr",
     "output_type": "stream",
     "text": [
      "Device set to use cpu\n",
      "Both `max_new_tokens` (=256) and `max_length`(=100) seem to have been set. `max_new_tokens` will take precedence. Please refer to the documentation for more information. (https://huggingface.co/docs/transformers/main/en/main_classes/text_generation)\n",
      "Both `max_new_tokens` (=256) and `max_length`(=100) seem to have been set. `max_new_tokens` will take precedence. Please refer to the documentation for more information. (https://huggingface.co/docs/transformers/main/en/main_classes/text_generation)\n",
      "Both `max_new_tokens` (=256) and `max_length`(=100) seem to have been set. `max_new_tokens` will take precedence. Please refer to the documentation for more information. (https://huggingface.co/docs/transformers/main/en/main_classes/text_generation)\n",
      "Both `max_new_tokens` (=256) and `max_length`(=100) seem to have been set. `max_new_tokens` will take precedence. Please refer to the documentation for more information. (https://huggingface.co/docs/transformers/main/en/main_classes/text_generation)\n",
      "Both `max_new_tokens` (=256) and `max_length`(=100) seem to have been set. `max_new_tokens` will take precedence. Please refer to the documentation for more information. (https://huggingface.co/docs/transformers/main/en/main_classes/text_generation)\n"
     ]
    }
   ],
   "source": [
    "from transformers import pipeline\n",
    "\n",
    "generator = pipeline(\n",
    "    \"text2text-generation\",\n",
    "    model=\"google/flan-t5-large\",\n",
    "    tokenizer=\"google/flan-t5-large\"\n",
    ")\n",
    "\n",
    "# Generate outputs\n",
    "generated = generator(sample_df['input_text'].tolist(), max_length=100, do_sample=True)\n",
    "\n",
    "# Store results\n",
    "sample_df['Justified Reason'] = [g['generated_text'] for g in generated]\n"
   ]
  },
  {
   "cell_type": "code",
   "execution_count": 37,
   "id": "61cbfbc4",
   "metadata": {},
   "outputs": [
    {
     "name": "stdout",
     "output_type": "stream",
     "text": [
      "🔹 Input Prompt:\n",
      " You are an AI system that determines if a complaint resolution is justified or not. You must base your answer on the agency, complaint type, descriptor, dissatisfaction reason, and resolution description. Provide your final decision (Justified or Not Justified) followed by a brief explanation.\n",
      "\n",
      "Agency: Department of Buildings\n",
      "Complaint Type: Certificate of Occupancy\n",
      "Descriptor: Illegal Change in Use\n",
      "Dissatisfaction Reason: The Agency did not correct the issue.\n",
      "Resolution Description: The Department of Buildings investigated this complaint and determined that no further action was necessary.\n",
      "Is the resolution justified?\n",
      "📝 Justified Reason:\n",
      " Not Justified\n",
      "====================================================================================================\n",
      "🔹 Input Prompt:\n",
      " You are an AI system that determines if a complaint resolution is justified or not. You must base your answer on the agency, complaint type, descriptor, dissatisfaction reason, and resolution description. Provide your final decision (Justified or Not Justified) followed by a brief explanation.\n",
      "\n",
      "Agency: Department of Buildings\n",
      "Complaint Type: No Building Permit\n",
      "Descriptor: Construction\n",
      "Dissatisfaction Reason: Other\n",
      "Resolution Description: The Department of Buildings investigated this complaint and determined that no further action was necessary.\n",
      "Is the resolution justified?\n",
      "📝 Justified Reason:\n",
      " Not Justified\n",
      "====================================================================================================\n",
      "🔹 Input Prompt:\n",
      " You are an AI system that determines if a complaint resolution is justified or not. You must base your answer on the agency, complaint type, descriptor, dissatisfaction reason, and resolution description. Provide your final decision (Justified or Not Justified) followed by a brief explanation.\n",
      "\n",
      "Agency: Department of Buildings\n",
      "Complaint Type: Elevator\n",
      "Descriptor: Not Working\n",
      "Dissatisfaction Reason: Other\n",
      "Resolution Description: The Department of Buildings investigated this complaint and issued an Office of Administrative Trials and Hearings (OATH) summons.\n",
      "Is the resolution justified?\n",
      "📝 Justified Reason:\n",
      " Not Justified\n",
      "====================================================================================================\n",
      "🔹 Input Prompt:\n",
      " You are an AI system that determines if a complaint resolution is justified or not. You must base your answer on the agency, complaint type, descriptor, dissatisfaction reason, and resolution description. Provide your final decision (Justified or Not Justified) followed by a brief explanation.\n",
      "\n",
      "Agency: Department of Buildings\n",
      "Complaint Type: Unstable Building\n",
      "Descriptor: Shaking/Vibrating\n",
      "Dissatisfaction Reason: The Agency did not correct the issue.\n",
      "Resolution Description: The Department of Buildings attempted to investigate this complaint twice but could not gain access to the location. If the problem still exists, please call 311 and file a new complaint with additional access information. If you are outside of New York City, please call (212) NEW-YORK (212-639-9675).\n",
      "Is the resolution justified?\n",
      "📝 Justified Reason:\n",
      " Not Justified\n",
      "====================================================================================================\n",
      "🔹 Input Prompt:\n",
      " You are an AI system that determines if a complaint resolution is justified or not. You must base your answer on the agency, complaint type, descriptor, dissatisfaction reason, and resolution description. Provide your final decision (Justified or Not Justified) followed by a brief explanation.\n",
      "\n",
      "Agency: Department of Buildings\n",
      "Complaint Type: Elevator\n",
      "Descriptor: Not Working\n",
      "Dissatisfaction Reason: The Agency did not correct the issue.\n",
      "Resolution Description: The Department of Buildings reviewed this complaint and closed it. If the problem still exists, please call 311 and file a new complaint. If you are outside of New York City, please call (212) NEW-YORK (212-639-9675).\n",
      "Is the resolution justified?\n",
      "📝 Justified Reason:\n",
      " Not Justified\n",
      "====================================================================================================\n"
     ]
    }
   ],
   "source": [
    "for _, row in sample_df.iterrows():\n",
    "    print(\"🔹 Input Prompt:\\n\", row['input_text'])\n",
    "    print(\"📝 Justified Reason:\\n\", row['Justified Reason'])\n",
    "    print(\"=\"*100)\n"
   ]
  }
 ],
 "metadata": {
  "kernelspec": {
   "display_name": "flatiron-env",
   "language": "python",
   "name": "python3"
  },
  "language_info": {
   "codemirror_mode": {
    "name": "ipython",
    "version": 3
   },
   "file_extension": ".py",
   "mimetype": "text/x-python",
   "name": "python",
   "nbconvert_exporter": "python",
   "pygments_lexer": "ipython3",
   "version": "3.13.2"
  }
 },
 "nbformat": 4,
 "nbformat_minor": 5
}
